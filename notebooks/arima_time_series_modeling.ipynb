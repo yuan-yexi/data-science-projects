{
 "cells": [
  {
   "cell_type": "code",
   "execution_count": 1,
   "id": "initial_id",
   "metadata": {
    "collapsed": true,
    "ExecuteTime": {
     "end_time": "2024-03-02T03:54:33.906810Z",
     "start_time": "2024-03-02T03:54:33.439957Z"
    }
   },
   "outputs": [],
   "source": [
    "import pandas as pd"
   ]
  },
  {
   "cell_type": "code",
   "outputs": [],
   "source": [
    "data = pd.read_csv('../data/hotel_bookings/hotel_bookings.csv')"
   ],
   "metadata": {
    "collapsed": false,
    "ExecuteTime": {
     "end_time": "2024-03-02T03:55:00.352233Z",
     "start_time": "2024-03-02T03:55:00.163969Z"
    }
   },
   "id": "b699a959af778554",
   "execution_count": 4
  },
  {
   "cell_type": "code",
   "outputs": [
    {
     "name": "stdout",
     "output_type": "stream",
     "text": [
      "<class 'pandas.core.frame.DataFrame'>\n",
      "RangeIndex: 40060 entries, 0 to 40059\n",
      "Data columns (total 31 columns):\n",
      " #   Column                       Non-Null Count  Dtype  \n",
      "---  ------                       --------------  -----  \n",
      " 0   IsCanceled                   40060 non-null  int64  \n",
      " 1   LeadTime                     40060 non-null  int64  \n",
      " 2   ArrivalDateYear              40060 non-null  int64  \n",
      " 3   ArrivalDateMonth             40060 non-null  object \n",
      " 4   ArrivalDateWeekNumber        40060 non-null  int64  \n",
      " 5   ArrivalDateDayOfMonth        40060 non-null  int64  \n",
      " 6   StaysInWeekendNights         40060 non-null  int64  \n",
      " 7   StaysInWeekNights            40060 non-null  int64  \n",
      " 8   Adults                       40060 non-null  int64  \n",
      " 9   Children                     40060 non-null  int64  \n",
      " 10  Babies                       40060 non-null  int64  \n",
      " 11  Meal                         40060 non-null  object \n",
      " 12  Country                      39596 non-null  object \n",
      " 13  MarketSegment                40060 non-null  object \n",
      " 14  DistributionChannel          40060 non-null  object \n",
      " 15  IsRepeatedGuest              40060 non-null  int64  \n",
      " 16  PreviousCancellations        40060 non-null  int64  \n",
      " 17  PreviousBookingsNotCanceled  40060 non-null  int64  \n",
      " 18  ReservedRoomType             40060 non-null  object \n",
      " 19  AssignedRoomType             40060 non-null  object \n",
      " 20  BookingChanges               40060 non-null  int64  \n",
      " 21  DepositType                  40060 non-null  object \n",
      " 22  Agent                        40060 non-null  object \n",
      " 23  Company                      40060 non-null  object \n",
      " 24  DaysInWaitingList            40060 non-null  int64  \n",
      " 25  CustomerType                 40060 non-null  object \n",
      " 26  ADR                          40060 non-null  float64\n",
      " 27  RequiredCarParkingSpaces     40060 non-null  int64  \n",
      " 28  TotalOfSpecialRequests       40060 non-null  int64  \n",
      " 29  ReservationStatus            40060 non-null  object \n",
      " 30  ReservationStatusDate        40060 non-null  object \n",
      "dtypes: float64(1), int64(17), object(13)\n",
      "memory usage: 9.5+ MB\n"
     ]
    }
   ],
   "source": [
    "data.info()"
   ],
   "metadata": {
    "collapsed": false,
    "ExecuteTime": {
     "end_time": "2024-03-02T03:55:05.132614Z",
     "start_time": "2024-03-02T03:55:05.081416Z"
    }
   },
   "id": "e87f10e63c47acf",
   "execution_count": 5
  },
  {
   "cell_type": "code",
   "outputs": [
    {
     "data": {
      "text/plain": "   IsCanceled  LeadTime  ArrivalDateYear ArrivalDateMonth  \\\n0           0       342             2015             July   \n1           0       737             2015             July   \n2           0         7             2015             July   \n3           0        13             2015             July   \n4           0        14             2015             July   \n\n   ArrivalDateWeekNumber  ArrivalDateDayOfMonth  StaysInWeekendNights  \\\n0                     27                      1                     0   \n1                     27                      1                     0   \n2                     27                      1                     0   \n3                     27                      1                     0   \n4                     27                      1                     0   \n\n   StaysInWeekNights  Adults  Children  ...      DepositType        Agent  \\\n0                  0       2         0  ...  No Deposit              NULL   \n1                  0       2         0  ...  No Deposit              NULL   \n2                  1       1         0  ...  No Deposit              NULL   \n3                  1       1         0  ...  No Deposit               304   \n4                  2       2         0  ...  No Deposit               240   \n\n       Company DaysInWaitingList CustomerType   ADR  RequiredCarParkingSpaces  \\\n0         NULL                 0    Transient   0.0                         0   \n1         NULL                 0    Transient   0.0                         0   \n2         NULL                 0    Transient  75.0                         0   \n3         NULL                 0    Transient  75.0                         0   \n4         NULL                 0    Transient  98.0                         0   \n\n   TotalOfSpecialRequests ReservationStatus ReservationStatusDate  \n0                       0         Check-Out            2015-07-01  \n1                       0         Check-Out            2015-07-01  \n2                       0         Check-Out            2015-07-02  \n3                       0         Check-Out            2015-07-02  \n4                       1         Check-Out            2015-07-03  \n\n[5 rows x 31 columns]",
      "text/html": "<div>\n<style scoped>\n    .dataframe tbody tr th:only-of-type {\n        vertical-align: middle;\n    }\n\n    .dataframe tbody tr th {\n        vertical-align: top;\n    }\n\n    .dataframe thead th {\n        text-align: right;\n    }\n</style>\n<table border=\"1\" class=\"dataframe\">\n  <thead>\n    <tr style=\"text-align: right;\">\n      <th></th>\n      <th>IsCanceled</th>\n      <th>LeadTime</th>\n      <th>ArrivalDateYear</th>\n      <th>ArrivalDateMonth</th>\n      <th>ArrivalDateWeekNumber</th>\n      <th>ArrivalDateDayOfMonth</th>\n      <th>StaysInWeekendNights</th>\n      <th>StaysInWeekNights</th>\n      <th>Adults</th>\n      <th>Children</th>\n      <th>...</th>\n      <th>DepositType</th>\n      <th>Agent</th>\n      <th>Company</th>\n      <th>DaysInWaitingList</th>\n      <th>CustomerType</th>\n      <th>ADR</th>\n      <th>RequiredCarParkingSpaces</th>\n      <th>TotalOfSpecialRequests</th>\n      <th>ReservationStatus</th>\n      <th>ReservationStatusDate</th>\n    </tr>\n  </thead>\n  <tbody>\n    <tr>\n      <th>0</th>\n      <td>0</td>\n      <td>342</td>\n      <td>2015</td>\n      <td>July</td>\n      <td>27</td>\n      <td>1</td>\n      <td>0</td>\n      <td>0</td>\n      <td>2</td>\n      <td>0</td>\n      <td>...</td>\n      <td>No Deposit</td>\n      <td>NULL</td>\n      <td>NULL</td>\n      <td>0</td>\n      <td>Transient</td>\n      <td>0.0</td>\n      <td>0</td>\n      <td>0</td>\n      <td>Check-Out</td>\n      <td>2015-07-01</td>\n    </tr>\n    <tr>\n      <th>1</th>\n      <td>0</td>\n      <td>737</td>\n      <td>2015</td>\n      <td>July</td>\n      <td>27</td>\n      <td>1</td>\n      <td>0</td>\n      <td>0</td>\n      <td>2</td>\n      <td>0</td>\n      <td>...</td>\n      <td>No Deposit</td>\n      <td>NULL</td>\n      <td>NULL</td>\n      <td>0</td>\n      <td>Transient</td>\n      <td>0.0</td>\n      <td>0</td>\n      <td>0</td>\n      <td>Check-Out</td>\n      <td>2015-07-01</td>\n    </tr>\n    <tr>\n      <th>2</th>\n      <td>0</td>\n      <td>7</td>\n      <td>2015</td>\n      <td>July</td>\n      <td>27</td>\n      <td>1</td>\n      <td>0</td>\n      <td>1</td>\n      <td>1</td>\n      <td>0</td>\n      <td>...</td>\n      <td>No Deposit</td>\n      <td>NULL</td>\n      <td>NULL</td>\n      <td>0</td>\n      <td>Transient</td>\n      <td>75.0</td>\n      <td>0</td>\n      <td>0</td>\n      <td>Check-Out</td>\n      <td>2015-07-02</td>\n    </tr>\n    <tr>\n      <th>3</th>\n      <td>0</td>\n      <td>13</td>\n      <td>2015</td>\n      <td>July</td>\n      <td>27</td>\n      <td>1</td>\n      <td>0</td>\n      <td>1</td>\n      <td>1</td>\n      <td>0</td>\n      <td>...</td>\n      <td>No Deposit</td>\n      <td>304</td>\n      <td>NULL</td>\n      <td>0</td>\n      <td>Transient</td>\n      <td>75.0</td>\n      <td>0</td>\n      <td>0</td>\n      <td>Check-Out</td>\n      <td>2015-07-02</td>\n    </tr>\n    <tr>\n      <th>4</th>\n      <td>0</td>\n      <td>14</td>\n      <td>2015</td>\n      <td>July</td>\n      <td>27</td>\n      <td>1</td>\n      <td>0</td>\n      <td>2</td>\n      <td>2</td>\n      <td>0</td>\n      <td>...</td>\n      <td>No Deposit</td>\n      <td>240</td>\n      <td>NULL</td>\n      <td>0</td>\n      <td>Transient</td>\n      <td>98.0</td>\n      <td>0</td>\n      <td>1</td>\n      <td>Check-Out</td>\n      <td>2015-07-03</td>\n    </tr>\n  </tbody>\n</table>\n<p>5 rows × 31 columns</p>\n</div>"
     },
     "execution_count": 6,
     "metadata": {},
     "output_type": "execute_result"
    }
   ],
   "source": [
    "data.head()"
   ],
   "metadata": {
    "collapsed": false,
    "ExecuteTime": {
     "end_time": "2024-03-02T04:06:47.096886Z",
     "start_time": "2024-03-02T04:06:47.077517Z"
    }
   },
   "id": "1b35596cde4dd860",
   "execution_count": 6
  },
  {
   "cell_type": "code",
   "outputs": [
    {
     "data": {
      "text/plain": "              IsCanceled\nDateYearWeek            \n201527                41\n201528                48\n201529                87\n201530                74\n201531               101\n...                  ...\n20175                 51\n20176                 91\n20177                 96\n20178                128\n20179                 77\n\n[115 rows x 1 columns]",
      "text/html": "<div>\n<style scoped>\n    .dataframe tbody tr th:only-of-type {\n        vertical-align: middle;\n    }\n\n    .dataframe tbody tr th {\n        vertical-align: top;\n    }\n\n    .dataframe thead th {\n        text-align: right;\n    }\n</style>\n<table border=\"1\" class=\"dataframe\">\n  <thead>\n    <tr style=\"text-align: right;\">\n      <th></th>\n      <th>IsCanceled</th>\n    </tr>\n    <tr>\n      <th>DateYearWeek</th>\n      <th></th>\n    </tr>\n  </thead>\n  <tbody>\n    <tr>\n      <th>201527</th>\n      <td>41</td>\n    </tr>\n    <tr>\n      <th>201528</th>\n      <td>48</td>\n    </tr>\n    <tr>\n      <th>201529</th>\n      <td>87</td>\n    </tr>\n    <tr>\n      <th>201530</th>\n      <td>74</td>\n    </tr>\n    <tr>\n      <th>201531</th>\n      <td>101</td>\n    </tr>\n    <tr>\n      <th>...</th>\n      <td>...</td>\n    </tr>\n    <tr>\n      <th>20175</th>\n      <td>51</td>\n    </tr>\n    <tr>\n      <th>20176</th>\n      <td>91</td>\n    </tr>\n    <tr>\n      <th>20177</th>\n      <td>96</td>\n    </tr>\n    <tr>\n      <th>20178</th>\n      <td>128</td>\n    </tr>\n    <tr>\n      <th>20179</th>\n      <td>77</td>\n    </tr>\n  </tbody>\n</table>\n<p>115 rows × 1 columns</p>\n</div>"
     },
     "execution_count": 10,
     "metadata": {},
     "output_type": "execute_result"
    }
   ],
   "source": [
    "(\n",
    "    data\n",
    "    .assign(\n",
    "        DateYearWeek = data.ArrivalDateYear.astype('str') + data.ArrivalDateWeekNumber.astype('str')\n",
    "    )\n",
    "    .groupby(['DateYearWeek'])\n",
    "    .agg({'IsCanceled': 'sum'})\n",
    ")"
   ],
   "metadata": {
    "collapsed": false,
    "ExecuteTime": {
     "end_time": "2024-03-02T04:12:10.152041Z",
     "start_time": "2024-03-02T04:12:10.097513Z"
    }
   },
   "id": "3441bb17da0eb845",
   "execution_count": 10
  }
 ],
 "metadata": {
  "kernelspec": {
   "display_name": "Python 3",
   "language": "python",
   "name": "python3"
  },
  "language_info": {
   "codemirror_mode": {
    "name": "ipython",
    "version": 2
   },
   "file_extension": ".py",
   "mimetype": "text/x-python",
   "name": "python",
   "nbconvert_exporter": "python",
   "pygments_lexer": "ipython2",
   "version": "2.7.6"
  }
 },
 "nbformat": 4,
 "nbformat_minor": 5
}
